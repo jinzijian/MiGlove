{
 "cells": [
  {
   "cell_type": "code",
   "execution_count": 1,
   "metadata": {},
   "outputs": [],
   "source": [
    "def plot(gr, gg, gb):\n",
    "    dis = gg - gr\n",
    "    res = []\n",
    "    for i in range(len(gb)):\n",
    "        tmp = gb[i] - gr\n",
    "        res.append(tmp/dis)\n",
    "    return res"
   ]
  },
  {
   "cell_type": "code",
   "execution_count": 2,
   "metadata": {},
   "outputs": [],
   "source": [
    "import numpy as np\n",
    "import matplotlib\n",
    "import matplotlib.pyplot as plt"
   ]
  },
  {
   "cell_type": "code",
   "execution_count": 3,
   "metadata": {},
   "outputs": [],
   "source": [
    "gr = -0.0034022338481412995\n",
    "gg = 0.007941414084699418\n",
    "gb = [-0.00015043793246150017, -0.0003527415295441945, -0.00032143998477194045, -0.000260717338985867, -0.0002446549220217599, -0.00022266805171966553, -5.281757977273729e-05, 0.0002700765099790361, 0.0003427937626838684, 0.00014173901743359037, 4.477467801835802e-05, -2.7255051665835912e-05, -3.2079716523488365e-05]\n",
    "deepwalk = plot(gr, gg, gb)\n",
    "length = [0,1,2,3,4,5,6,7,8,9,10,11,12]"
   ]
  },
  {
   "cell_type": "code",
   "execution_count": 4,
   "metadata": {},
   "outputs": [],
   "source": [
    "gr =  -0.0015317295350272347\n",
    "gg = 8.269416823707244e-05\n",
    "gb = [-4.89740908421852e-05, -0.0001232214418619319, -0.00013578033863773778, -0.00011168065140265281, -0.00010287532134464494, -9.444778961888341e-05, -0.00013935523866503326, -0.00011248349177616614, -6.813775679027592e-05, -5.5364621544463765e-05, -9.453604946395866e-05, -0.00012024099835091168, 2.0101852715015412e-05]\n",
    "nmp = plot(gr, gg, gb)\n",
    "length = [0,1,2,3,4,5,6,7,8,9,10,11,12]"
   ]
  },
  {
   "cell_type": "code",
   "execution_count": 5,
   "metadata": {},
   "outputs": [],
   "source": [
    "gr = -0.001189817558473873\n",
    "gg = 0.356671283642451\n",
    "gb = [0.22990966317830264, 0.2993851199194236, 0.25668419665760467, 0.2343796125164738, 0.2009745264494861, 0.17200464424159795, 0.148975564594622, 0.15793547724132184, 0.15001928706963857, 0.15270275909591602, 0.16103893755762666, 0.17985360749341822, 0.18856668880692234]\n",
    "graphsage = plot(gr, gg, gb)\n",
    "length = [0,1,2,3,4,5,6,7,8,9,10,11,12]"
   ]
  },
  {
   "cell_type": "code",
   "execution_count": 6,
   "metadata": {},
   "outputs": [],
   "source": [
    "gr = -0.0006971211646924968\n",
    "gg = 0.0030221246614086403\n",
    "gb = [-9.044206408024939e-05, -0.0005704693905836731, -0.0012146160709326742, -0.0010966602704246288, -0.0020090765009323757, -0.0028034367805553806, -0.0023640406706059974, -0.0023162047921990356, -0.0024084455644090967, -0.001517500101019525, -0.00101463723824256, -0.0005380247322911464, 0.0005935315159149468]\n",
    "graphsage_no_glove = plot(gr, gg, gb)\n",
    "length = [0,1,2,3,4,5,6,7,8,9,10,11,12]"
   ]
  },
  {
   "cell_type": "code",
   "execution_count": 7,
   "metadata": {},
   "outputs": [],
   "source": [
    "gr =  -0.0015725115469346447\n",
    "gg =  0.0006089615031938862\n",
    "gb = [-0.00011351001653734043, -0.00021259214867044377, -0.0002386569700859211, -0.00021577224521294097, -0.00020759139356582806, -0.00021232167448572537, -0.00025519680887184766, -0.00023817387581975371, -0.00020371780901095243, -0.0001915461149851412, -0.00022488011012750643, -0.00024389850527600006, -0.00010515193549778176]\n",
    "nmp_no_rel = plot(gr, gg, gb)\n",
    "length = [0,1,2,3,4,5,6,7,8,9,10,11,12]"
   ]
  },
  {
   "cell_type": "code",
   "execution_count": 8,
   "metadata": {},
   "outputs": [],
   "source": [
    "gr = -0.0015652477551527596\n",
    "gg = 0.0004647930566635397\n",
    "gb = [-6.803531421745127e-05, -0.00015600951457465137, -0.00017249091933653862, -0.00013683241753218074, -0.0001151885483758869, -9.486969017113246e-05, -0.00010696603556560284, -8.299094247545494e-05, -5.9373046113048786e-05, -7.123134909542621e-05, -0.00013864529922742535, -0.0001835454634770199, -6.175285412205589e-05]\n",
    "nmp_no_glove = plot(gr, gg, gb)\n",
    "length = [0,1,2,3,4,5,6,7,8,9,10,11,12]"
   ]
  },
  {
   "cell_type": "code",
   "execution_count": 9,
   "metadata": {},
   "outputs": [],
   "source": [
    "gr = -0.0015360450829137806\n",
    "gg =  7.940559428081744e-05\n",
    "gb = [-6.56633775819231e-05, -0.0001394123891023574, -0.00015809095003297205, -0.00013646400938914328, -0.000127013656795801, -0.00011879263555682781, -0.00015506923340985343, -0.00012998975084715144, -9.53170699412348e-05, -8.060730437541174e-05, -0.00012520154252544874, -0.0001403739606892621, 3.2660930796905867e-06]\n",
    "nmp_no_node = plot(gr, gg, gb)\n",
    "length = [0,1,2,3,4,5,6,7,8,9,10,11,12]"
   ]
  },
  {
   "cell_type": "code",
   "execution_count": null,
   "metadata": {},
   "outputs": [],
   "source": []
  },
  {
   "cell_type": "code",
   "execution_count": 27,
   "metadata": {},
   "outputs": [],
   "source": [
    "gr = -0.033148664153284504\n",
    "gg = -0.00033887332926193874\n",
    "gb = [-0.0027082962898054615, -0.003959591741915102, -0.004349013585252342, -0.004006888278484068, -0.0038379456865152827, -0.0038510754635488536, -0.004170728954314081, -0.004061192291340342, -0.003774448879132116, -0.0036424800615619726, -0.0041741232611928825, -0.004500030948676997, -0.0020503966206753695]\n",
    "graphsage = plot(gr, gg, gb)\n",
    "length = [0,1,2,3,4,5,6,7,8,9,10,11,12]"
   ]
  },
  {
   "cell_type": "code",
   "execution_count": 28,
   "metadata": {},
   "outputs": [
    {
     "data": {
      "text/plain": [
       "Text(0, 0.5, 'Mutual Information')"
      ]
     },
     "execution_count": 28,
     "metadata": {},
     "output_type": "execute_result"
    },
    {
     "data": {
      "image/png": "[encoded data removed]",
      "text/plain": [
       "<Figure size 432x288 with 1 Axes>"
      ]
     },
     "metadata": {
      "needs_background": "light"
     },
     "output_type": "display_data"
    }
   ],
   "source": [
    "plt.plot(length, graphsage,  marker = '*',label='graphsage')\n",
    "#plt.plot(length, graphsage_no_glove,  marker = '*',label='graphsage_no_glove')\n",
    "#plt.plot(length, deepwalk, marker = 'o',label='deepwalk')\n",
    "#plt.plot(length, nmp, marker = 'x',label='nmp')\n",
    "#plt.plot(length, nmp_no_rel, marker = 'x',label='nmp_no_rel')\n",
    "#plt.plot(length, nmp_no_node, marker = 'x',label='nmp_no_node')\n",
    "#plt.plot(length, nmp_no_glove, marker = 'x',label='nmp_no_all')\n",
    "plt.legend()\n",
    "plt.ylim(ymax = 1.0)\n",
    "plt.ylim(ymin = 0.0)\n",
    "plt.xlabel(\"bert layers\")\n",
    "plt.ylabel(\"Mutual Information\")"
   ]
  },
  {
   "cell_type": "code",
   "execution_count": null,
   "metadata": {},
   "outputs": [],
   "source": []
  }
 ],
 "metadata": {
  "kernelspec": {
   "display_name": "Python 3",
   "language": "python",
   "name": "python3"
  },
  "language_info": {
   "codemirror_mode": {
    "name": "ipython",
    "version": 3
   },
   "file_extension": ".py",
   "mimetype": "text/x-python",
   "name": "python",
   "nbconvert_exporter": "python",
   "pygments_lexer": "ipython3",
   "version": "3.8.3"
  }
 },
 "nbformat": 4,
 "nbformat_minor": 4
}
