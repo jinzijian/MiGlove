{
 "cells": [
  {
   "cell_type": "code",
   "execution_count": 1,
   "metadata": {},
   "outputs": [],
   "source": [
    "def gensh(lr):\n",
    "    for i in range(len(lr)):\n",
    "        print('/root/anaconda3/envs/new_env/bin/python3.6 main.py --gpu 1 --mimethod mine --method nmp --task eval --batch_size 2048 --repeat 1 --nonlinear elu --hidden_size 128 --lr '+ str(lr[i])+' --milr 1e-6 --epoch 1000 --mode sample' )"
   ]
  },
  {
   "cell_type": "code",
   "execution_count": 2,
   "metadata": {},
   "outputs": [],
   "source": [
    "lr = [1e-2,3e-2,6e-2,1e-3,3e-3,6e-3, 1e-4,3e-4,6e-4, 1e-5,3e-5,6e-5, 1e-6,3e-6,6e-6]"
   ]
  },
  {
   "cell_type": "code",
   "execution_count": 3,
   "metadata": {
    "scrolled": true
   },
   "outputs": [
    {
     "name": "stdout",
     "output_type": "stream",
     "text": [
      "/root/anaconda3/envs/new_env/bin/python3.6 main.py --gpu 1 --mimethod mine --method nmp --task eval --batch_size 2048 --repeat 1 --nonlinear elu --hidden_size 128 --lr 0.01 --milr 1e-6 --epoch 1000 --mode sample\n",
      "/root/anaconda3/envs/new_env/bin/python3.6 main.py --gpu 1 --mimethod mine --method nmp --task eval --batch_size 2048 --repeat 1 --nonlinear elu --hidden_size 128 --lr 0.03 --milr 1e-6 --epoch 1000 --mode sample\n",
      "/root/anaconda3/envs/new_env/bin/python3.6 main.py --gpu 1 --mimethod mine --method nmp --task eval --batch_size 2048 --repeat 1 --nonlinear elu --hidden_size 128 --lr 0.06 --milr 1e-6 --epoch 1000 --mode sample\n",
      "/root/anaconda3/envs/new_env/bin/python3.6 main.py --gpu 1 --mimethod mine --method nmp --task eval --batch_size 2048 --repeat 1 --nonlinear elu --hidden_size 128 --lr 0.001 --milr 1e-6 --epoch 1000 --mode sample\n",
      "/root/anaconda3/envs/new_env/bin/python3.6 main.py --gpu 1 --mimethod mine --method nmp --task eval --batch_size 2048 --repeat 1 --nonlinear elu --hidden_size 128 --lr 0.003 --milr 1e-6 --epoch 1000 --mode sample\n",
      "/root/anaconda3/envs/new_env/bin/python3.6 main.py --gpu 1 --mimethod mine --method nmp --task eval --batch_size 2048 --repeat 1 --nonlinear elu --hidden_size 128 --lr 0.006 --milr 1e-6 --epoch 1000 --mode sample\n",
      "/root/anaconda3/envs/new_env/bin/python3.6 main.py --gpu 1 --mimethod mine --method nmp --task eval --batch_size 2048 --repeat 1 --nonlinear elu --hidden_size 128 --lr 0.0001 --milr 1e-6 --epoch 1000 --mode sample\n",
      "/root/anaconda3/envs/new_env/bin/python3.6 main.py --gpu 1 --mimethod mine --method nmp --task eval --batch_size 2048 --repeat 1 --nonlinear elu --hidden_size 128 --lr 0.0003 --milr 1e-6 --epoch 1000 --mode sample\n",
      "/root/anaconda3/envs/new_env/bin/python3.6 main.py --gpu 1 --mimethod mine --method nmp --task eval --batch_size 2048 --repeat 1 --nonlinear elu --hidden_size 128 --lr 0.0006 --milr 1e-6 --epoch 1000 --mode sample\n",
      "/root/anaconda3/envs/new_env/bin/python3.6 main.py --gpu 1 --mimethod mine --method nmp --task eval --batch_size 2048 --repeat 1 --nonlinear elu --hidden_size 128 --lr 1e-05 --milr 1e-6 --epoch 1000 --mode sample\n",
      "/root/anaconda3/envs/new_env/bin/python3.6 main.py --gpu 1 --mimethod mine --method nmp --task eval --batch_size 2048 --repeat 1 --nonlinear elu --hidden_size 128 --lr 3e-05 --milr 1e-6 --epoch 1000 --mode sample\n",
      "/root/anaconda3/envs/new_env/bin/python3.6 main.py --gpu 1 --mimethod mine --method nmp --task eval --batch_size 2048 --repeat 1 --nonlinear elu --hidden_size 128 --lr 6e-05 --milr 1e-6 --epoch 1000 --mode sample\n",
      "/root/anaconda3/envs/new_env/bin/python3.6 main.py --gpu 1 --mimethod mine --method nmp --task eval --batch_size 2048 --repeat 1 --nonlinear elu --hidden_size 128 --lr 1e-06 --milr 1e-6 --epoch 1000 --mode sample\n",
      "/root/anaconda3/envs/new_env/bin/python3.6 main.py --gpu 1 --mimethod mine --method nmp --task eval --batch_size 2048 --repeat 1 --nonlinear elu --hidden_size 128 --lr 3e-06 --milr 1e-6 --epoch 1000 --mode sample\n",
      "/root/anaconda3/envs/new_env/bin/python3.6 main.py --gpu 1 --mimethod mine --method nmp --task eval --batch_size 2048 --repeat 1 --nonlinear elu --hidden_size 128 --lr 6e-06 --milr 1e-6 --epoch 1000 --mode sample\n"
     ]
    }
   ],
   "source": [
    "gensh(lr)"
   ]
  },
  {
   "cell_type": "code",
   "execution_count": 4,
   "metadata": {},
   "outputs": [],
   "source": [
    "lr = [1e-2,2e-2, 3e-2, 4e-2, 5e-2,6e-2, 7e-2, 8e-2, 9e-2, 1e-3, 2e-3, 3e-3, 4e-3, 5e-3,6e-3, 7e-3, 8e-3, 9e-3, 1e-4, 2e-4, 3e-4, 4e-4, 5e-4,6e-4, 7e-4, 8e-4, 9e-4,1e-5, 2e-5, 3e-5, 4e-5, 5e-5,6e-5,7e-5,8e-5, 9e-5,1e-6, 2e-6, 3e-6, 4e-6, 5e-6,6e-6, 7e-6, 8e-6, 9e-6]\n",
    "\n",
    "\n"
   ]
  },
  {
   "cell_type": "code",
   "execution_count": 5,
   "metadata": {},
   "outputs": [
    {
     "name": "stdout",
     "output_type": "stream",
     "text": [
      "/root/anaconda3/envs/new_env/bin/python3.6 main.py --gpu 1 --mimethod mine --method nmp --task eval --batch_size 2048 --repeat 1 --nonlinear elu --hidden_size 128 --lr 0.01 --milr 1e-6 --epoch 1000 --mode sample\n",
      "/root/anaconda3/envs/new_env/bin/python3.6 main.py --gpu 1 --mimethod mine --method nmp --task eval --batch_size 2048 --repeat 1 --nonlinear elu --hidden_size 128 --lr 0.02 --milr 1e-6 --epoch 1000 --mode sample\n",
      "/root/anaconda3/envs/new_env/bin/python3.6 main.py --gpu 1 --mimethod mine --method nmp --task eval --batch_size 2048 --repeat 1 --nonlinear elu --hidden_size 128 --lr 0.03 --milr 1e-6 --epoch 1000 --mode sample\n",
      "/root/anaconda3/envs/new_env/bin/python3.6 main.py --gpu 1 --mimethod mine --method nmp --task eval --batch_size 2048 --repeat 1 --nonlinear elu --hidden_size 128 --lr 0.04 --milr 1e-6 --epoch 1000 --mode sample\n",
      "/root/anaconda3/envs/new_env/bin/python3.6 main.py --gpu 1 --mimethod mine --method nmp --task eval --batch_size 2048 --repeat 1 --nonlinear elu --hidden_size 128 --lr 0.05 --milr 1e-6 --epoch 1000 --mode sample\n",
      "/root/anaconda3/envs/new_env/bin/python3.6 main.py --gpu 1 --mimethod mine --method nmp --task eval --batch_size 2048 --repeat 1 --nonlinear elu --hidden_size 128 --lr 0.06 --milr 1e-6 --epoch 1000 --mode sample\n",
      "/root/anaconda3/envs/new_env/bin/python3.6 main.py --gpu 1 --mimethod mine --method nmp --task eval --batch_size 2048 --repeat 1 --nonlinear elu --hidden_size 128 --lr 0.07 --milr 1e-6 --epoch 1000 --mode sample\n",
      "/root/anaconda3/envs/new_env/bin/python3.6 main.py --gpu 1 --mimethod mine --method nmp --task eval --batch_size 2048 --repeat 1 --nonlinear elu --hidden_size 128 --lr 0.08 --milr 1e-6 --epoch 1000 --mode sample\n",
      "/root/anaconda3/envs/new_env/bin/python3.6 main.py --gpu 1 --mimethod mine --method nmp --task eval --batch_size 2048 --repeat 1 --nonlinear elu --hidden_size 128 --lr 0.09 --milr 1e-6 --epoch 1000 --mode sample\n",
      "/root/anaconda3/envs/new_env/bin/python3.6 main.py --gpu 1 --mimethod mine --method nmp --task eval --batch_size 2048 --repeat 1 --nonlinear elu --hidden_size 128 --lr 0.001 --milr 1e-6 --epoch 1000 --mode sample\n",
      "/root/anaconda3/envs/new_env/bin/python3.6 main.py --gpu 1 --mimethod mine --method nmp --task eval --batch_size 2048 --repeat 1 --nonlinear elu --hidden_size 128 --lr 0.002 --milr 1e-6 --epoch 1000 --mode sample\n",
      "/root/anaconda3/envs/new_env/bin/python3.6 main.py --gpu 1 --mimethod mine --method nmp --task eval --batch_size 2048 --repeat 1 --nonlinear elu --hidden_size 128 --lr 0.003 --milr 1e-6 --epoch 1000 --mode sample\n",
      "/root/anaconda3/envs/new_env/bin/python3.6 main.py --gpu 1 --mimethod mine --method nmp --task eval --batch_size 2048 --repeat 1 --nonlinear elu --hidden_size 128 --lr 0.004 --milr 1e-6 --epoch 1000 --mode sample\n",
      "/root/anaconda3/envs/new_env/bin/python3.6 main.py --gpu 1 --mimethod mine --method nmp --task eval --batch_size 2048 --repeat 1 --nonlinear elu --hidden_size 128 --lr 0.005 --milr 1e-6 --epoch 1000 --mode sample\n",
      "/root/anaconda3/envs/new_env/bin/python3.6 main.py --gpu 1 --mimethod mine --method nmp --task eval --batch_size 2048 --repeat 1 --nonlinear elu --hidden_size 128 --lr 0.006 --milr 1e-6 --epoch 1000 --mode sample\n",
      "/root/anaconda3/envs/new_env/bin/python3.6 main.py --gpu 1 --mimethod mine --method nmp --task eval --batch_size 2048 --repeat 1 --nonlinear elu --hidden_size 128 --lr 0.007 --milr 1e-6 --epoch 1000 --mode sample\n",
      "/root/anaconda3/envs/new_env/bin/python3.6 main.py --gpu 1 --mimethod mine --method nmp --task eval --batch_size 2048 --repeat 1 --nonlinear elu --hidden_size 128 --lr 0.008 --milr 1e-6 --epoch 1000 --mode sample\n",
      "/root/anaconda3/envs/new_env/bin/python3.6 main.py --gpu 1 --mimethod mine --method nmp --task eval --batch_size 2048 --repeat 1 --nonlinear elu --hidden_size 128 --lr 0.009 --milr 1e-6 --epoch 1000 --mode sample\n",
      "/root/anaconda3/envs/new_env/bin/python3.6 main.py --gpu 1 --mimethod mine --method nmp --task eval --batch_size 2048 --repeat 1 --nonlinear elu --hidden_size 128 --lr 0.0001 --milr 1e-6 --epoch 1000 --mode sample\n",
      "/root/anaconda3/envs/new_env/bin/python3.6 main.py --gpu 1 --mimethod mine --method nmp --task eval --batch_size 2048 --repeat 1 --nonlinear elu --hidden_size 128 --lr 0.0002 --milr 1e-6 --epoch 1000 --mode sample\n",
      "/root/anaconda3/envs/new_env/bin/python3.6 main.py --gpu 1 --mimethod mine --method nmp --task eval --batch_size 2048 --repeat 1 --nonlinear elu --hidden_size 128 --lr 0.0003 --milr 1e-6 --epoch 1000 --mode sample\n",
      "/root/anaconda3/envs/new_env/bin/python3.6 main.py --gpu 1 --mimethod mine --method nmp --task eval --batch_size 2048 --repeat 1 --nonlinear elu --hidden_size 128 --lr 0.0004 --milr 1e-6 --epoch 1000 --mode sample\n",
      "/root/anaconda3/envs/new_env/bin/python3.6 main.py --gpu 1 --mimethod mine --method nmp --task eval --batch_size 2048 --repeat 1 --nonlinear elu --hidden_size 128 --lr 0.0005 --milr 1e-6 --epoch 1000 --mode sample\n",
      "/root/anaconda3/envs/new_env/bin/python3.6 main.py --gpu 1 --mimethod mine --method nmp --task eval --batch_size 2048 --repeat 1 --nonlinear elu --hidden_size 128 --lr 0.0006 --milr 1e-6 --epoch 1000 --mode sample\n",
      "/root/anaconda3/envs/new_env/bin/python3.6 main.py --gpu 1 --mimethod mine --method nmp --task eval --batch_size 2048 --repeat 1 --nonlinear elu --hidden_size 128 --lr 0.0007 --milr 1e-6 --epoch 1000 --mode sample\n",
      "/root/anaconda3/envs/new_env/bin/python3.6 main.py --gpu 1 --mimethod mine --method nmp --task eval --batch_size 2048 --repeat 1 --nonlinear elu --hidden_size 128 --lr 0.0008 --milr 1e-6 --epoch 1000 --mode sample\n",
      "/root/anaconda3/envs/new_env/bin/python3.6 main.py --gpu 1 --mimethod mine --method nmp --task eval --batch_size 2048 --repeat 1 --nonlinear elu --hidden_size 128 --lr 0.0009 --milr 1e-6 --epoch 1000 --mode sample\n",
      "/root/anaconda3/envs/new_env/bin/python3.6 main.py --gpu 1 --mimethod mine --method nmp --task eval --batch_size 2048 --repeat 1 --nonlinear elu --hidden_size 128 --lr 1e-05 --milr 1e-6 --epoch 1000 --mode sample\n",
      "/root/anaconda3/envs/new_env/bin/python3.6 main.py --gpu 1 --mimethod mine --method nmp --task eval --batch_size 2048 --repeat 1 --nonlinear elu --hidden_size 128 --lr 2e-05 --milr 1e-6 --epoch 1000 --mode sample\n",
      "/root/anaconda3/envs/new_env/bin/python3.6 main.py --gpu 1 --mimethod mine --method nmp --task eval --batch_size 2048 --repeat 1 --nonlinear elu --hidden_size 128 --lr 3e-05 --milr 1e-6 --epoch 1000 --mode sample\n",
      "/root/anaconda3/envs/new_env/bin/python3.6 main.py --gpu 1 --mimethod mine --method nmp --task eval --batch_size 2048 --repeat 1 --nonlinear elu --hidden_size 128 --lr 4e-05 --milr 1e-6 --epoch 1000 --mode sample\n",
      "/root/anaconda3/envs/new_env/bin/python3.6 main.py --gpu 1 --mimethod mine --method nmp --task eval --batch_size 2048 --repeat 1 --nonlinear elu --hidden_size 128 --lr 5e-05 --milr 1e-6 --epoch 1000 --mode sample\n",
      "/root/anaconda3/envs/new_env/bin/python3.6 main.py --gpu 1 --mimethod mine --method nmp --task eval --batch_size 2048 --repeat 1 --nonlinear elu --hidden_size 128 --lr 6e-05 --milr 1e-6 --epoch 1000 --mode sample\n",
      "/root/anaconda3/envs/new_env/bin/python3.6 main.py --gpu 1 --mimethod mine --method nmp --task eval --batch_size 2048 --repeat 1 --nonlinear elu --hidden_size 128 --lr 7e-05 --milr 1e-6 --epoch 1000 --mode sample\n",
      "/root/anaconda3/envs/new_env/bin/python3.6 main.py --gpu 1 --mimethod mine --method nmp --task eval --batch_size 2048 --repeat 1 --nonlinear elu --hidden_size 128 --lr 8e-05 --milr 1e-6 --epoch 1000 --mode sample\n",
      "/root/anaconda3/envs/new_env/bin/python3.6 main.py --gpu 1 --mimethod mine --method nmp --task eval --batch_size 2048 --repeat 1 --nonlinear elu --hidden_size 128 --lr 9e-05 --milr 1e-6 --epoch 1000 --mode sample\n",
      "/root/anaconda3/envs/new_env/bin/python3.6 main.py --gpu 1 --mimethod mine --method nmp --task eval --batch_size 2048 --repeat 1 --nonlinear elu --hidden_size 128 --lr 1e-06 --milr 1e-6 --epoch 1000 --mode sample\n",
      "/root/anaconda3/envs/new_env/bin/python3.6 main.py --gpu 1 --mimethod mine --method nmp --task eval --batch_size 2048 --repeat 1 --nonlinear elu --hidden_size 128 --lr 2e-06 --milr 1e-6 --epoch 1000 --mode sample\n",
      "/root/anaconda3/envs/new_env/bin/python3.6 main.py --gpu 1 --mimethod mine --method nmp --task eval --batch_size 2048 --repeat 1 --nonlinear elu --hidden_size 128 --lr 3e-06 --milr 1e-6 --epoch 1000 --mode sample\n",
      "/root/anaconda3/envs/new_env/bin/python3.6 main.py --gpu 1 --mimethod mine --method nmp --task eval --batch_size 2048 --repeat 1 --nonlinear elu --hidden_size 128 --lr 4e-06 --milr 1e-6 --epoch 1000 --mode sample\n",
      "/root/anaconda3/envs/new_env/bin/python3.6 main.py --gpu 1 --mimethod mine --method nmp --task eval --batch_size 2048 --repeat 1 --nonlinear elu --hidden_size 128 --lr 5e-06 --milr 1e-6 --epoch 1000 --mode sample\n",
      "/root/anaconda3/envs/new_env/bin/python3.6 main.py --gpu 1 --mimethod mine --method nmp --task eval --batch_size 2048 --repeat 1 --nonlinear elu --hidden_size 128 --lr 6e-06 --milr 1e-6 --epoch 1000 --mode sample\n",
      "/root/anaconda3/envs/new_env/bin/python3.6 main.py --gpu 1 --mimethod mine --method nmp --task eval --batch_size 2048 --repeat 1 --nonlinear elu --hidden_size 128 --lr 7e-06 --milr 1e-6 --epoch 1000 --mode sample\n",
      "/root/anaconda3/envs/new_env/bin/python3.6 main.py --gpu 1 --mimethod mine --method nmp --task eval --batch_size 2048 --repeat 1 --nonlinear elu --hidden_size 128 --lr 8e-06 --milr 1e-6 --epoch 1000 --mode sample\n",
      "/root/anaconda3/envs/new_env/bin/python3.6 main.py --gpu 1 --mimethod mine --method nmp --task eval --batch_size 2048 --repeat 1 --nonlinear elu --hidden_size 128 --lr 9e-06 --milr 1e-6 --epoch 1000 --mode sample\n"
     ]
    }
   ],
   "source": [
    "gensh(lr)"
   ]
  },
  {
   "cell_type": "code",
   "execution_count": null,
   "metadata": {},
   "outputs": [],
   "source": []
  },
  {
   "cell_type": "code",
   "execution_count": null,
   "metadata": {},
   "outputs": [],
   "source": []
  }
 ],
 "metadata": {
  "kernelspec": {
   "display_name": "Python 3",
   "language": "python",
   "name": "python3"
  },
  "language_info": {
   "codemirror_mode": {
    "name": "ipython",
    "version": 3
   },
   "file_extension": ".py",
   "mimetype": "text/x-python",
   "name": "python",
   "nbconvert_exporter": "python",
   "pygments_lexer": "ipython3",
   "version": "3.8.3"
  }
 },
 "nbformat": 4,
 "nbformat_minor": 4
}
